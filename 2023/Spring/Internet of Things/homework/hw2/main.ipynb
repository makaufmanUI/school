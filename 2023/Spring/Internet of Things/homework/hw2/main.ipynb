{
 "cells": [
  {
   "attachments": {},
   "cell_type": "markdown",
   "metadata": {},
   "source": [
    "# Homework 2\n",
    "## Due: 11:59pm Sunday, March 12, 2023\n",
    "\n",
    "---"
   ]
  },
  {
   "cell_type": "code",
   "execution_count": 449,
   "metadata": {},
   "outputs": [],
   "source": [
    "import numpy as np\n",
    "import pandas as pd\n",
    "import sklearn.svm as svm\n",
    "import matplotlib.pyplot as plt"
   ]
  },
  {
   "attachments": {},
   "cell_type": "markdown",
   "metadata": {},
   "source": [
    "---"
   ]
  },
  {
   "attachments": {},
   "cell_type": "markdown",
   "metadata": {},
   "source": [
    "## Problem 1\n",
    "\n",
    "We have training data on $1000$ pieces of fruit and among them $500$ are bananas, $300$ are oranges and $200$ are other fruits.\n",
    "\n",
    "We consider $3$ features of each fruit, whether it’s long or not, sweet or not and yellow or not, as displayed in the table below.\n",
    "\n",
    "\n",
    "| $\\textbf{Fruit}$ | $\\textbf{Long}$ | $\\textbf{Sweet}$ | $\\textbf{Yellow}$ |\n",
    "|------------------|-----------------|------------------|-------------------|\n",
    "| Banana           |      $400$      |       $350$      |       $450$       | \n",
    "| Orange           |       $0$       |       $150$      |       $300$       |\n",
    "| Other            |      $100$      |       $150$      |       $50$        |\n",
    "\n",
    "\n",
    "Now given an additional fruit with the features: Long, Sweet and Yellow, what is your prediction the fruit is a banana, an orange or other? Why?\n",
    "\n",
    "$\\textbf{Hint}$:\n",
    "\n",
    "Find the probabilites $P(Banana)$, $P(Orange)$, $P(Other)$, $P(Long|Banana)$, $P(Sweet|Banana)$, $P(Yellow|Banana)$, etc.\n",
    "\n",
    "$\\textbf{Note}$:\n",
    "\n",
    "$$ P(Banana|Long,Sweet,Yellow) = \\frac {P(Long|Banana) P(Sweet|Banana) P(Yellow|Banana) P(Banana)}{P(Long,Sweet,Yellow)} $$\n",
    "\n",
    "$$ P(Orange|Long,Sweet,Yellow) = \\frac {P(Long|Orange) P(Sweet|Orange) P(Yellow|Orange) P(Orange)}{P(Long,Sweet,Yellow)} $$\n",
    "\n",
    "$$ P(Other|Long,Sweet,Yellow) = \\frac {P(Long|Other) P(Sweet|Other) P(Yellow|Other) P(Orange)}{P(Long,Sweet,Yellow)} $$"
   ]
  },
  {
   "cell_type": "code",
   "execution_count": 450,
   "metadata": {},
   "outputs": [
    {
     "name": "stdout",
     "output_type": "stream",
     "text": [
      "P(Banana|Long,Sweet,Yellow) = 0.969\n",
      "P(Orange|Long,Sweet,Yellow) = 0.000\n",
      "P(Other|Long,Sweet,Yellow)  = 0.072 \n"
     ]
    }
   ],
   "source": [
    "\n",
    "p_banana = 500/1000     # P(Banana)\n",
    "p_orange = 300/1000     # P(Orange)\n",
    "p_other  = 200/1000     # P(Other)\n",
    "\n",
    "p_l   = (400+0+100)/1000     # P(Long)\n",
    "p_s  = (350+150+150)/1000   # P(Sweet)\n",
    "p_y = (450+300+50)/1000    # P(Yellow)\n",
    "\n",
    "p_l_banana   = 400/500   # P(Long|Banana)\n",
    "p_s_banana  = 350/500   # P(Sweet|Banana)\n",
    "p_y_banana = 450/500   # P(Yellow|Banana)\n",
    "\n",
    "p_l_orange   = 0/300     # P(Long|Orange)\n",
    "p_s_orange  = 150/300   # P(Sweet|Orange)\n",
    "p_y_orange = 300/300   # P(Yellow|Orange)\n",
    "\n",
    "p_l_other    = 100/200   # P(Long|Other)\n",
    "p_s_other   = 150/200   # P(Sweet|Other)\n",
    "p_y_other  = 50/200    # P(Yellow|Other)\n",
    "\n",
    "\n",
    "# P(Long,Sweet,Yellow) = P(Long) * P(Sweet) * P(Yellow)\n",
    "p_l_s_y = p_l * p_s * p_y\n",
    "\n",
    "# P(Banana|Long,Sweet,Yellow) = \n",
    "# (P(Long|Banana) * P(Sweet|Banana) * P(Yellow|Banana) * P(Banana)) / P(Long,Sweet,Yellow)\n",
    "p_banana_long_sweet_yellow = (p_l_banana * p_s_banana * p_y_banana * p_banana) / p_l_s_y\n",
    "\n",
    "# P(Orange|Long,Sweet,Yellow) = \n",
    "# (P(Long|Orange) * P(Sweet|Orange) * P(Yellow|Orange) * P(Orange)) / P(Long,Sweet,Yellow)\n",
    "p_orange_long_sweet_yellow = (p_l_orange * p_s_orange * p_y_orange * p_orange) / p_l_s_y\n",
    "\n",
    "# P(Other|Long,Sweet,Yellow) = \n",
    "# (P(Long|Other) * P(Sweet|Other) * P(Yellow|Other) * P(Other)) / P(Long,Sweet,Yellow)\n",
    "p_other_long_sweet_yellow = (p_l_other * p_s_other * p_y_other * p_other) / p_l_s_y\n",
    "\n",
    "\n",
    "print(f\"P(Banana|Long,Sweet,Yellow) = {p_banana_long_sweet_yellow:.3f}\")\n",
    "print(f\"P(Orange|Long,Sweet,Yellow) = {p_orange_long_sweet_yellow:.3f}\")\n",
    "print(f\"P(Other|Long,Sweet,Yellow)  = {p_other_long_sweet_yellow:.3f} \")\n"
   ]
  },
  {
   "attachments": {},
   "cell_type": "markdown",
   "metadata": {},
   "source": [
    "### Answer:\n",
    "\n",
    "Given that the additional fruit is Long, Sweet, and Yellow, it is predicted to be a banana.\n",
    "\n",
    "This is because the probability of a fruit being a banana, given that it is long, sweet, and yellow, is the highest of the three categories of fruit ( $0.969 > 0.072 > 0.000$ )."
   ]
  },
  {
   "attachments": {},
   "cell_type": "markdown",
   "metadata": {},
   "source": [
    "---"
   ]
  },
  {
   "attachments": {},
   "cell_type": "markdown",
   "metadata": {},
   "source": [
    "## Problem 2\n",
    "\n",
    "Given a Data matrix with $58$ rows and $2$ columns that represents the Cartesian coordinates of $58$ towns in West Germany:\n",
    "\n",
    "- 1. Augsburg, 2. Bielefeld, 3. Bochum, 4. Bremen, 5. Darmstadt, 6. Essen, 7. Freiburg, 8. Hamburg, 9. Hannover, 10. Heilbronn, 11. Kaiserslautern, 12. Karlsruhe, \n",
    "- 13. Kassel, 14. Kempten, 15. Koblenz, 16. Koeln, 17. Landshut, 18. Lichtenfels, 19. Mainz, 20. Muenchen, 21. Muenster, 22. Neuss, 23. Nuernburg, 24. Oldenburg, \n",
    "- 25. Regensburg, 26. Rendsburg, 27. Stuttgart, 28. Ulm, 29. Wuerzburg, 30. Aachen, 31. Ansbach, 32. Aschaffenburg, 33. Bamberg, 34. Bayreuth, 35. Bonn, 36. Braunschweig, \n",
    "- 37. Bremen, 38. Coburg, 39. Dortmund, 40. Duesseldorf, 41. Duisburg, 42. Erlangen, 43. Frankfurt, 44. Fulda, 45. Fuerth, 46. Gelsen-Kirchen, 47. Gummersburg, \n",
    "- 48. Hagen, 49. Hersbruck, 50. Ingolstadt, 51. Kiel, 52. Mannheim, 53. Marburg, 54. Offenburg, 55. Osnabrueck, 56. Reutlingen, 57. Saarbruecken, 58. Siegen\n",
    "\n",
    "City coordinates (according to the numerical order listed above) and their affiliation (1=NW or 2=SE):\n",
    "\n",
    "- (1) 54.0 -65.0, (2) 0.0 71.0, (3) -31.0 53.0, (4) 8.0 111.0, (5) 1.0 -9.0, (6) -36.0 52.0, (7) -22.0 -76.0, (8) 34.0 129.0, (9) 28.0 84.0, (10) 12.0 -38.0, (11) -21.0 -26.0, (12) -6.0 -41.0,\n",
    "- (13) 21.0 45.0, (14) 38.0 -90.0, (15) -24.0 10.0, (16) -38.0 35.0, (17) 86.0 -57.0, (18) 58.0 -1.0, (19) -9.0 -3.0, (20) 70.0 -74.0, (21) -20.0 70.0, (22) -43.0 44.0, (23) 59.0 -26.0, (24) -5.0 114.0,\n",
    "- (25) 83.0 -41.0, (26) 27.0 153.0, (27) 12.0 -49.0, (28) 30.0 -65.0, (29) 31.0 -12.0, (30) -57.0 28.0, (31) 44.0 -28.0, (32) 7.0 -7.0, (33) 54.0 -8.0, (34) 65.0 -8.0, (35) -35.0 25.0, (36) 46.0 79.0,\n",
    "- (37) 5.0 118.0, (38) 56.0 4.0, (39) -21.0 54.0, (40) -40.0 45.0, (41) -43.0 51.0, (42) 57.0 -21.0, (43) 0.0 0.0, (44) 25.0 15.0, (45) 56.0 -25.0, (46) -34.0 56.0, (47) -24.0 36.0,\n",
    "- (48) -25.0 49.0, (49) 64.0 -26.0, (50) 63.0 -48.0, ( 51) 37.0 155.0, (52) -5.0 -24.0, (53) 2.0 28.0, (54) -18.0 -58.0, (55) -10.0 82.0,  (56) 12.0 -58.0, (57) -40.0 -28.0, (58) -16.0 28.0\n",
    "\n",
    "Cities 26, 51, 24, 4, 37, 8, 55, 9, 36, 21, 2, 41, 6, 46, 3, 22, 40, 16, 39, 48, 13, 30, 35, 58, 53, 47, 15, 58, 53, 13, 36 are in the class north-west (NW) and the rest are in class south-east (SE)."
   ]
  },
  {
   "cell_type": "code",
   "execution_count": 451,
   "metadata": {},
   "outputs": [
    {
     "data": {
      "text/html": [
       "<div>\n",
       "<style scoped>\n",
       "    .dataframe tbody tr th:only-of-type {\n",
       "        vertical-align: middle;\n",
       "    }\n",
       "\n",
       "    .dataframe tbody tr th {\n",
       "        vertical-align: top;\n",
       "    }\n",
       "\n",
       "    .dataframe thead th {\n",
       "        text-align: right;\n",
       "    }\n",
       "</style>\n",
       "<table border=\"1\" class=\"dataframe\">\n",
       "  <thead>\n",
       "    <tr style=\"text-align: right;\">\n",
       "      <th></th>\n",
       "      <th>city</th>\n",
       "      <th>class</th>\n",
       "      <th>x</th>\n",
       "      <th>y</th>\n",
       "    </tr>\n",
       "  </thead>\n",
       "  <tbody>\n",
       "    <tr>\n",
       "      <th>0</th>\n",
       "      <td>Augsburg</td>\n",
       "      <td>2</td>\n",
       "      <td>54.0</td>\n",
       "      <td>-65.0</td>\n",
       "    </tr>\n",
       "    <tr>\n",
       "      <th>1</th>\n",
       "      <td>Bielefeld</td>\n",
       "      <td>1</td>\n",
       "      <td>0.0</td>\n",
       "      <td>71.0</td>\n",
       "    </tr>\n",
       "    <tr>\n",
       "      <th>2</th>\n",
       "      <td>Bochum</td>\n",
       "      <td>1</td>\n",
       "      <td>-31.0</td>\n",
       "      <td>53.0</td>\n",
       "    </tr>\n",
       "    <tr>\n",
       "      <th>3</th>\n",
       "      <td>Bremen</td>\n",
       "      <td>1</td>\n",
       "      <td>8.0</td>\n",
       "      <td>111.0</td>\n",
       "    </tr>\n",
       "    <tr>\n",
       "      <th>4</th>\n",
       "      <td>Darmstadt</td>\n",
       "      <td>2</td>\n",
       "      <td>1.0</td>\n",
       "      <td>-9.0</td>\n",
       "    </tr>\n",
       "  </tbody>\n",
       "</table>\n",
       "</div>"
      ],
      "text/plain": [
       "        city  class     x      y\n",
       "0   Augsburg      2  54.0  -65.0\n",
       "1  Bielefeld      1   0.0   71.0\n",
       "2     Bochum      1 -31.0   53.0\n",
       "3     Bremen      1   8.0  111.0\n",
       "4  Darmstadt      2   1.0   -9.0"
      ]
     },
     "execution_count": 451,
     "metadata": {},
     "output_type": "execute_result"
    }
   ],
   "source": [
    "\n",
    "CITIES = [\n",
    "    \"Augsburg\",       \"Bielefeld\",     \"Bochum\",      \"Bremen\",    \"Darmstadt\",\n",
    "    \"Essen\",          \"Freiburg\",      \"Hamburg\",     \"Hannover\",  \"Heilbronn\",\n",
    "    \"Kaiserslautern\", \"Karlsruhe\",     \"Kassel\",      \"Kempten\",   \"Koblenz\",\n",
    "    \"Koeln\",          \"Landshut\",      \"Lichtenfels\", \"Mainz\",     \"Muenchen\",\n",
    "    \"Muenster\",       \"Neuss\",         \"Nuernburg\",   \"Oldenburg\", \"Regensburg\",\n",
    "    \"Rendsburg\",      \"Stuttgart\",     \"Ulm\",         \"Wuerzburg\", \"Aachen\",\n",
    "    \"Ansbach\",        \"Aschaffenburg\", \"Bamberg\",     \"Bayreuth\",  \"Bonn\",\n",
    "    \"Braunschweig\",   \"Bremen\",        \"Coburg\",      \"Dortmund\",  \"Duesseldorf\",\n",
    "    \"Duisburg\",       \"Erlangen\",      \"Frankfurt\",   \"Fulda\",     \"Fuerth\",\n",
    "    \"Gelsen-Kirchen\", \"Gummersburg\",   \"Hagen\",       \"Hersbruck\", \"Ingolstadt\",\n",
    "    \"Kiel\",           \"Mannheim\",      \"Marburg\",     \"Offenburg\", \"Osnabrueck\",\n",
    "    \"Reutlingen\",     \"Saarbruecken\",  \"Siegen\",\n",
    "]\n",
    "\n",
    "COORDINATES = [\n",
    "    ( 54.0, -65.0), (  0.0,  71.0), (-31.0,  53.0), (  8.0, 111.0), (  1.0,  -9.0),\n",
    "    (-36.0,  52.0), (-22.0, -76.0), ( 34.0, 129.0), ( 28.0,  84.0), ( 12.0, -38.0),\n",
    "    (-21.0, -26.0), ( -6.0, -41.0), ( 21.0,  45.0), ( 38.0, -90.0), (-24.0,  10.0),\n",
    "    (-38.0,  35.0), ( 86.0, -57.0), ( 58.0,  -1.0), ( -9.0,  -3.0), ( 70.0, -74.0),\n",
    "    (-20.0,  70.0), (-43.0,  44.0), ( 59.0, -26.0), ( -5.0, 114.0), ( 83.0, -41.0),\n",
    "    ( 27.0, 153.0), ( 12.0, -49.0), ( 30.0, -65.0), ( 31.0, -12.0), (-57.0,  28.0),\n",
    "    ( 44.0, -28.0), (  7.0,  -7.0), ( 54.0,  -8.0), ( 65.0,  -8.0), (-35.0,  25.0),\n",
    "    ( 46.0,  79.0), (  5.0, 118.0), ( 56.0,   4.0), (-21.0,  54.0), (-40.0,  45.0),\n",
    "    (-43.0,  51.0), ( 57.0, -21.0), (  0.0,   0.0), ( 25.0,  15.0), ( 56.0, -25.0),\n",
    "    (-34.0,  56.0), (-24.0,  36.0), (-25.0,  49.0), ( 64.0, -26.0), ( 63.0, -48.0),\n",
    "    ( 37.0, 155.0), ( -5.0, -24.0), (  2.0,  28.0), (-18.0, -58.0), (-10.0,  82.0),\n",
    "    ( 12.0, -58.0), (-40.0, -28.0), (-16.0,  28.0),\n",
    "]\n",
    "\n",
    "nw = [\n",
    "    2,   3,  4,  6,  8,  9, 13, 15, 16, 21, 22, 24, 26,  \n",
    "    30, 35, 36, 37, 39, 40, 41, 46, 47, 48, 51, 53, 55, 58,\n",
    "]\n",
    "sw = [\n",
    "     1,  5,  7, 10, 11, 12, 14, 17, 18, 19, 20, 23, 25, 27, 28, \n",
    "    29, 31, 32, 33, 34, 38, 42, 43, 44, 45, 49, 50, 52, 54, 56, 57,\n",
    "]\n",
    "CLASSES = [\n",
    "    2, 1, 1, 1, 2, 1, 2, 1, 1, 2, 2, 2, 1, 2, 1, 1, 2, 2, 2, \n",
    "    2, 1, 1, 2, 1, 2, 1, 2, 2, 2, 1, 2, 2, 2, 2, 1, 1, 1, 2, \n",
    "    1, 1, 1, 2, 2, 2, 2, 1, 1, 1, 2, 2, 1, 2, 1, 2, 1, 2, 2, 1,\n",
    "]\n",
    "\n",
    "data = pd.DataFrame({\n",
    "    'city': CITIES,\n",
    "    'class': CLASSES,\n",
    "    'x': [c[0] for c in COORDINATES],\n",
    "    'y': [c[1] for c in COORDINATES],\n",
    "})\n",
    "\n",
    "data.head()\n",
    "\n"
   ]
  },
  {
   "attachments": {},
   "cell_type": "markdown",
   "metadata": {},
   "source": [
    "### 2.1\n",
    "Determine the separating line in terms of the slope ($m$) and y-intercept ($b$)."
   ]
  },
  {
   "cell_type": "code",
   "execution_count": 452,
   "metadata": {},
   "outputs": [
    {
     "name": "stdout",
     "output_type": "stream",
     "text": [
      "Slope: 0.692\n",
      "Intercept: 14.924\n"
     ]
    }
   ],
   "source": [
    "\n",
    "model = svm.SVC(kernel='linear', C=1E10)    # Create SVM model\n",
    "model.fit(data[['x', 'y']].values, data['class'].values)  # Fit the model\n",
    "\n",
    "w = model.coef_[0]\n",
    "a = -w[0] / w[1]\n",
    "x = np.linspace(-100, 100)\n",
    "separation_line = a * x - (model.intercept_[0]) / w[1]\n",
    "\n",
    "# Parallels to separating line that pass through support vectors\n",
    "b = model.support_vectors_[0]\n",
    "separation_line_down = a * x + (b[1] - a * b[0])\n",
    "b = model.support_vectors_[-1]\n",
    "separation_line_up = a * x + (b[1] - a * b[0])\n",
    "\n",
    "print(f\"Slope: {a:.3f}\")\n",
    "print(f\"Intercept: {(-model.intercept_[0]) / w[1]:.3f}\")\n"
   ]
  },
  {
   "attachments": {},
   "cell_type": "markdown",
   "metadata": {},
   "source": [
    "### Answer:\n",
    "\n",
    "- The slope of the separating line is found to be $m = 0.692$.\n",
    "- The y-intercept of the separating line is found to be $b = 14.924$."
   ]
  },
  {
   "attachments": {},
   "cell_type": "markdown",
   "metadata": {},
   "source": [
    "### 2.2\n",
    "Plot the separating line on top of cities on a two-dimensional plane."
   ]
  },
  {
   "cell_type": "code",
   "execution_count": 453,
   "metadata": {},
   "outputs": [
    {
     "data": {
      "image/png": "[encoded data removed]",
      "text/plain": [
       "<Figure size 792x576 with 1 Axes>"
      ]
     },
     "metadata": {
      "needs_background": "light"
     },
     "output_type": "display_data"
    }
   ],
   "source": [
    "\n",
    "fig, ax = plt.subplots(figsize=(11, 8))\n",
    "plt.xlim(min(data['x']) - 10, max(data['x']) + 10)\n",
    "plt.ylim(min(data['y']) - 10, max(data['y']) + 10)\n",
    "plt.axvline(x=0, color='black', linestyle='--', alpha=0.1)\n",
    "plt.axhline(y=0, color='black', linestyle='--', alpha=0.1)\n",
    "plt.xlabel('x', fontsize=18, fontweight='bold', color='black', alpha=0.75, labelpad=20)\n",
    "plt.ylabel('y', fontsize=18, fontweight='bold', color='black', alpha=0.75, labelpad=10)\n",
    "plt.title('City Coordinates', fontsize=24, fontweight='bold', color='black', alpha=0.85, pad=20)\n",
    "plt.xticks(fontsize=13, color='black', alpha=0.75)\n",
    "plt.yticks(fontsize=13, color='black', alpha=0.75)\n",
    "plt.scatter([], [], c='red', alpha=0.7, s=100, label='Southwest')\n",
    "plt.scatter([], [], c='blue', alpha=0.7, s=100, label='Northwest')\n",
    "plt.legend(scatterpoints=1, frameon=False, labelspacing=1, fontsize=12)\n",
    "plt.scatter(data['x'], data['y'], c=data['class'], cmap='coolwarm', alpha=0.8)\n",
    "plt.plot(x, separation_line_up, 'k--', alpha=0.5)\n",
    "plt.plot(x, separation_line_down, 'k--', alpha=0.5)\n",
    "plt.plot(x, separation_line, linewidth=2, color='black')\n",
    "plt.plot([], [], color='black', linewidth=2, label='Separating Line')\n",
    "plt.plot([], [], color='black', linewidth=1, linestyle='--', label='Support Vectors')\n",
    "plt.legend(loc='upper right', frameon=False, fontsize=12)\n",
    "plt.show()\n"
   ]
  },
  {
   "attachments": {},
   "cell_type": "markdown",
   "metadata": {},
   "source": [
    "### 2.3\n",
    "\n",
    "The coordinate of the city Giessen is ($0, 22$). Determine if Giessen is in the cluster NW or the cluster SE."
   ]
  },
  {
   "cell_type": "code",
   "execution_count": 454,
   "metadata": {},
   "outputs": [
    {
     "name": "stdout",
     "output_type": "stream",
     "text": [
      "1\n"
     ]
    }
   ],
   "source": [
    "\n",
    "prediction = model.predict([[0, 22]])   # Predict the class of the new city\n",
    "\n",
    "print(prediction.item())    # Print the prediction class (1 or 2)\n"
   ]
  },
  {
   "attachments": {},
   "cell_type": "markdown",
   "metadata": {},
   "source": [
    "### Answer:\n",
    "\n",
    "Giessen is in the cluster NW."
   ]
  },
  {
   "attachments": {},
   "cell_type": "markdown",
   "metadata": {},
   "source": [
    "---"
   ]
  }
 ],
 "metadata": {
  "kernelspec": {
   "display_name": "Python 3",
   "language": "python",
   "name": "python3"
  },
  "language_info": {
   "codemirror_mode": {
    "name": "ipython",
    "version": 3
   },
   "file_extension": ".py",
   "mimetype": "text/x-python",
   "name": "python",
   "nbconvert_exporter": "python",
   "pygments_lexer": "ipython3",
   "version": "3.10.1"
  },
  "orig_nbformat": 4
 },
 "nbformat": 4,
 "nbformat_minor": 2
}
